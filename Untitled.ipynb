{
 "cells": [
  {
   "cell_type": "markdown",
   "metadata": {},
   "source": [
    "# SAKI HOMEWORK 1"
   ]
  },
  {
   "cell_type": "markdown",
   "metadata": {},
   "source": [
    "Als erstes importieren wir die benötigten Pakete."
   ]
  },
  {
   "cell_type": "code",
   "execution_count": 29,
   "metadata": {},
   "outputs": [],
   "source": [
    "import pandas as pd\n",
    "import numpy as np\n",
    "import matplotlib.pyplot as plt\n",
    "import datetime\n",
    "from sklearn.model_selection import train_test_split\n",
    "from sklearn import preprocessing\n",
    "from sklearn.feature_selection import mutual_info_classif, SelectKBest, f_classif\n",
    "from sklearn.feature_extraction.text import CountVectorizer\n",
    "from sklearn.naive_bayes import GaussianNB\n",
    "from sklearn.naive_bayes import MultinomialNB\n",
    "from sklearn.naive_bayes import BernoulliNB\n",
    "from sklearn.metrics import classification_report\n",
    "from sklearn.metrics import plot_confusion_matrix\n"
   ]
  },
  {
   "cell_type": "markdown",
   "metadata": {},
   "source": [
    "Das Dataset wird geladen und und ein erster Überblick über die Daten verschafft:"
   ]
  },
  {
   "cell_type": "code",
   "execution_count": 30,
   "metadata": {
    "scrolled": true
   },
   "outputs": [
    {
     "name": "stdout",
     "output_type": "stream",
     "text": [
      "['income' 'living' 'private' 'standardOfLiving' 'leisure' 'finance']\n",
      "<class 'pandas.core.frame.DataFrame'>\n",
      "RangeIndex: 209 entries, 0 to 208\n",
      "Data columns (total 11 columns):\n",
      " #   Column                             Non-Null Count  Dtype  \n",
      "---  ------                             --------------  -----  \n",
      " 0   Auftragskonto                      168 non-null    float64\n",
      " 1   Buchungstag                        209 non-null    object \n",
      " 2   Valutadatum                        209 non-null    object \n",
      " 3   Buchungstext                       209 non-null    object \n",
      " 4   Verwendungszweck                   209 non-null    object \n",
      " 5   Beguenstigter/Zahlungspflichtiger  209 non-null    object \n",
      " 6   Kontonummer                        208 non-null    object \n",
      " 7   BLZ                                208 non-null    object \n",
      " 8   Betrag                             209 non-null    object \n",
      " 9   Waehrung                           209 non-null    object \n",
      " 10  label                              209 non-null    object \n",
      "dtypes: float64(1), object(10)\n",
      "memory usage: 18.1+ KB\n",
      "None\n",
      "   Auftragskonto Buchungstag Valutadatum              Buchungstext  \\\n",
      "0     89990201.0  28.07.2016  28.07.2016             Lohn / Gehalt   \n",
      "1     89990201.0  27.07.2016  27.07.2016                     Miete   \n",
      "2     89990201.0  21.07.2016  21.07.2016                   Bargeld   \n",
      "3     89990201.0  20.07.2016  20.07.2016  Lebensmittel / Getraenke   \n",
      "4     89990201.0  18.07.2016  18.07.2016            Spontanausgabe   \n",
      "\n",
      "                                    Verwendungszweck  \\\n",
      "0  Gehalt Adorsys GmbH & Co. KG End-To-End-Ref.: ...   \n",
      "1  Byladem1Sbt De12773501123456789889 Miete Beuth...   \n",
      "2  21.07/16.34Uhr Nuernberg All Eur 70,00 Geb.Eur...   \n",
      "3  2831 Edeka Neubauer Nuernb.//Nuernb 2016-07-20...   \n",
      "4                                             Amazon   \n",
      "\n",
      "  Beguenstigter/Zahlungspflichtiger             Kontonummer          BLZ  \\\n",
      "0             Adorsys GmbH & Co. KG              7807800780     25190001   \n",
      "1                      Georg Tasche  DE31251900019123456780  VOHADE2HXXX   \n",
      "2                           Bargeld              9999900780     25190001   \n",
      "3                     Kartenzahlung              9736000780     25190001   \n",
      "4                  neue Playstation              9988776655     25125100   \n",
      "\n",
      "    Betrag Waehrung             label  \n",
      "0  2000.00      EUR            income  \n",
      "1  -670.00      EUR            living  \n",
      "2   -70.00      EUR           private  \n",
      "3   -73.21      EUR  standardOfLiving  \n",
      "4     -363      EUR           leisure  \n"
     ]
    }
   ],
   "source": [
    "df = pd.read_csv('dataset.csv', delimiter=';').iloc[:, 1:]\n",
    "labels = df[\"label\"].unique()\n",
    "print(labels)\n",
    "print(df.info())\n",
    "print(df.head())"
   ]
  },
  {
   "cell_type": "markdown",
   "metadata": {},
   "source": [
    "Die Labels werden in Zahlen umgewandelt:"
   ]
  },
  {
   "cell_type": "code",
   "execution_count": 31,
   "metadata": {},
   "outputs": [
    {
     "name": "stdout",
     "output_type": "stream",
     "text": [
      "['finance' 'income' 'leisure' 'living' 'private' 'standardOfLiving']\n"
     ]
    },
    {
     "data": {
      "text/html": [
       "<div>\n",
       "<style scoped>\n",
       "    .dataframe tbody tr th:only-of-type {\n",
       "        vertical-align: middle;\n",
       "    }\n",
       "\n",
       "    .dataframe tbody tr th {\n",
       "        vertical-align: top;\n",
       "    }\n",
       "\n",
       "    .dataframe thead th {\n",
       "        text-align: right;\n",
       "    }\n",
       "</style>\n",
       "<table border=\"1\" class=\"dataframe\">\n",
       "  <thead>\n",
       "    <tr style=\"text-align: right;\">\n",
       "      <th></th>\n",
       "      <th>Auftragskonto</th>\n",
       "      <th>Buchungstag</th>\n",
       "      <th>Valutadatum</th>\n",
       "      <th>Buchungstext</th>\n",
       "      <th>Verwendungszweck</th>\n",
       "      <th>Beguenstigter/Zahlungspflichtiger</th>\n",
       "      <th>Kontonummer</th>\n",
       "      <th>BLZ</th>\n",
       "      <th>Betrag</th>\n",
       "      <th>Waehrung</th>\n",
       "      <th>label</th>\n",
       "    </tr>\n",
       "  </thead>\n",
       "  <tbody>\n",
       "    <tr>\n",
       "      <th>0</th>\n",
       "      <td>89990201.0</td>\n",
       "      <td>28.07.2016</td>\n",
       "      <td>28.07.2016</td>\n",
       "      <td>Lohn / Gehalt</td>\n",
       "      <td>Gehalt Adorsys GmbH &amp; Co. KG End-To-End-Ref.: ...</td>\n",
       "      <td>Adorsys GmbH &amp; Co. KG</td>\n",
       "      <td>7807800780</td>\n",
       "      <td>25190001</td>\n",
       "      <td>2000.00</td>\n",
       "      <td>EUR</td>\n",
       "      <td>1</td>\n",
       "    </tr>\n",
       "    <tr>\n",
       "      <th>1</th>\n",
       "      <td>89990201.0</td>\n",
       "      <td>27.07.2016</td>\n",
       "      <td>27.07.2016</td>\n",
       "      <td>Miete</td>\n",
       "      <td>Byladem1Sbt De12773501123456789889 Miete Beuth...</td>\n",
       "      <td>Georg Tasche</td>\n",
       "      <td>DE31251900019123456780</td>\n",
       "      <td>VOHADE2HXXX</td>\n",
       "      <td>-670.00</td>\n",
       "      <td>EUR</td>\n",
       "      <td>3</td>\n",
       "    </tr>\n",
       "    <tr>\n",
       "      <th>2</th>\n",
       "      <td>89990201.0</td>\n",
       "      <td>21.07.2016</td>\n",
       "      <td>21.07.2016</td>\n",
       "      <td>Bargeld</td>\n",
       "      <td>21.07/16.34Uhr Nuernberg All Eur 70,00 Geb.Eur...</td>\n",
       "      <td>Bargeld</td>\n",
       "      <td>9999900780</td>\n",
       "      <td>25190001</td>\n",
       "      <td>-70.00</td>\n",
       "      <td>EUR</td>\n",
       "      <td>4</td>\n",
       "    </tr>\n",
       "    <tr>\n",
       "      <th>3</th>\n",
       "      <td>89990201.0</td>\n",
       "      <td>20.07.2016</td>\n",
       "      <td>20.07.2016</td>\n",
       "      <td>Lebensmittel / Getraenke</td>\n",
       "      <td>2831 Edeka Neubauer Nuernb.//Nuernb 2016-07-20...</td>\n",
       "      <td>Kartenzahlung</td>\n",
       "      <td>9736000780</td>\n",
       "      <td>25190001</td>\n",
       "      <td>-73.21</td>\n",
       "      <td>EUR</td>\n",
       "      <td>5</td>\n",
       "    </tr>\n",
       "    <tr>\n",
       "      <th>4</th>\n",
       "      <td>89990201.0</td>\n",
       "      <td>18.07.2016</td>\n",
       "      <td>18.07.2016</td>\n",
       "      <td>Spontanausgabe</td>\n",
       "      <td>Amazon</td>\n",
       "      <td>neue Playstation</td>\n",
       "      <td>9988776655</td>\n",
       "      <td>25125100</td>\n",
       "      <td>-363</td>\n",
       "      <td>EUR</td>\n",
       "      <td>2</td>\n",
       "    </tr>\n",
       "  </tbody>\n",
       "</table>\n",
       "</div>"
      ],
      "text/plain": [
       "   Auftragskonto Buchungstag Valutadatum              Buchungstext  \\\n",
       "0     89990201.0  28.07.2016  28.07.2016             Lohn / Gehalt   \n",
       "1     89990201.0  27.07.2016  27.07.2016                     Miete   \n",
       "2     89990201.0  21.07.2016  21.07.2016                   Bargeld   \n",
       "3     89990201.0  20.07.2016  20.07.2016  Lebensmittel / Getraenke   \n",
       "4     89990201.0  18.07.2016  18.07.2016            Spontanausgabe   \n",
       "\n",
       "                                    Verwendungszweck  \\\n",
       "0  Gehalt Adorsys GmbH & Co. KG End-To-End-Ref.: ...   \n",
       "1  Byladem1Sbt De12773501123456789889 Miete Beuth...   \n",
       "2  21.07/16.34Uhr Nuernberg All Eur 70,00 Geb.Eur...   \n",
       "3  2831 Edeka Neubauer Nuernb.//Nuernb 2016-07-20...   \n",
       "4                                             Amazon   \n",
       "\n",
       "  Beguenstigter/Zahlungspflichtiger             Kontonummer          BLZ  \\\n",
       "0             Adorsys GmbH & Co. KG              7807800780     25190001   \n",
       "1                      Georg Tasche  DE31251900019123456780  VOHADE2HXXX   \n",
       "2                           Bargeld              9999900780     25190001   \n",
       "3                     Kartenzahlung              9736000780     25190001   \n",
       "4                  neue Playstation              9988776655     25125100   \n",
       "\n",
       "    Betrag Waehrung  label  \n",
       "0  2000.00      EUR      1  \n",
       "1  -670.00      EUR      3  \n",
       "2   -70.00      EUR      4  \n",
       "3   -73.21      EUR      5  \n",
       "4     -363      EUR      2  "
      ]
     },
     "execution_count": 31,
     "metadata": {},
     "output_type": "execute_result"
    }
   ],
   "source": [
    "le = preprocessing.LabelEncoder()\n",
    "le.fit(df[\"label\"])\n",
    "le.transform([\"income\"])\n",
    "print(le.inverse_transform([0, 1, 2, 3, 4, 5]))\n",
    "df[\"label\"] = le.transform(df[\"label\"])\n",
    "df.head()"
   ]
  },
  {
   "cell_type": "markdown",
   "metadata": {},
   "source": [
    "Um aus den Daten bestmögliche Feature zu generieren schauene wir das Datenset Spalte für Spalte an. Begonnen wird mit der Spalte Auftragskonto. \n",
    "## Auftragskonto"
   ]
  },
  {
   "cell_type": "code",
   "execution_count": 32,
   "metadata": {},
   "outputs": [
    {
     "name": "stdout",
     "output_type": "stream",
     "text": [
      "unique: [89990201. 89990210.       nan]\n",
      "missing: 41\n"
     ]
    }
   ],
   "source": [
    "unique_auftragskonto = df[\"Auftragskonto\"].unique()\n",
    "missing_auftragskonto = df[\"Auftragskonto\"].isnull().sum()\n",
    "print(\"unique: \" + str(unique_auftragskonto))\n",
    "print(\"missing: \" + str(missing_auftragskonto))\n",
    "df = df.drop(\"Auftragskonto\", 1)"
   ]
  },
  {
   "cell_type": "markdown",
   "metadata": {},
   "source": [
    "In dem Datensatz werden lediglich zwei verschiedene Auftragskonten aufgeführt und bei 41 Reihen fehlt diese sogar. Das Auftragskonto wird daher keinen Einfluss auf unser Modell haben und kann aus dem Datensatz erntfernt werden."
   ]
  },
  {
   "cell_type": "markdown",
   "metadata": {},
   "source": [
    "## Buchungstag/Valutadatum"
   ]
  },
  {
   "cell_type": "code",
   "execution_count": 33,
   "metadata": {},
   "outputs": [
    {
     "name": "stdout",
     "output_type": "stream",
     "text": [
      "1\n"
     ]
    }
   ],
   "source": [
    "buchungstag = df[\"Buchungstag\"].to_numpy()\n",
    "valutadatum = df[\"Valutadatum\"].to_numpy()\n",
    "print(len(np.where(buchungstag != valutadatum)[0]))"
   ]
  },
  {
   "cell_type": "markdown",
   "metadata": {},
   "source": [
    "Buchungstag und Valutadatum unterscheiden sich nur in einer Zeile. Aus diesem Grund wird im weiteren nur noch der Buchungstag betrachtet. Besonders interessant für den Klassifizierer sind dabei die die Tage des Monats. Da am Ende des Monats meist das Gehalt oder die Miete abgebucht bzw. gutgeschrieben werden und andere Klassen sich eher über den gesamten Monat verteilen. Daher wandeln wir die genauen Angaben in den Tag des Monats um:"
   ]
  },
  {
   "cell_type": "code",
   "execution_count": 34,
   "metadata": {},
   "outputs": [
    {
     "name": "stdout",
     "output_type": "stream",
     "text": [
      "0      28\n",
      "1      27\n",
      "2      21\n",
      "3      20\n",
      "4      18\n",
      "       ..\n",
      "204    15\n",
      "205     2\n",
      "206    28\n",
      "207    28\n",
      "208     8\n",
      "Name: Buchungstag, Length: 209, dtype: int32\n"
     ]
    }
   ],
   "source": [
    "for index, day in enumerate(buchungstag):\n",
    "    buchungstag[index] = day[0:2]\n",
    "df = df.drop(columns=['Valutadatum'])\n",
    "df[\"Buchungstag\"] = buchungstag.astype(int)\n",
    "for label in labels:\n",
    "    asdf = df[[\"Buchungstag\", \"label\"]].loc[df[\"label\"] == label]\n",
    "print(df[\"Buchungstag\"])"
   ]
  },
  {
   "cell_type": "markdown",
   "metadata": {},
   "source": [
    "## Buchungstext"
   ]
  },
  {
   "cell_type": "markdown",
   "metadata": {},
   "source": []
  },
  {
   "cell_type": "code",
   "execution_count": 35,
   "metadata": {},
   "outputs": [
    {
     "name": "stdout",
     "output_type": "stream",
     "text": [
      "['Lohn / Gehalt' 'Miete' 'Bargeld' 'Lebensmittel / Getraenke'\n",
      " 'Spontanausgabe' 'Mieteinnahmen' 'Drogerie' 'Geldanlage' 'Gehalt/Rente'\n",
      " 'Lastschrift (Einzugsermächtigung)' 'Dauerauftrag' 'Abschluss'\n",
      " 'Euro-Überweisung' 'Euroscheck / Gaa-Belastung Ausland']\n"
     ]
    },
    {
     "data": {
      "text/html": [
       "<div>\n",
       "<style scoped>\n",
       "    .dataframe tbody tr th:only-of-type {\n",
       "        vertical-align: middle;\n",
       "    }\n",
       "\n",
       "    .dataframe tbody tr th {\n",
       "        vertical-align: top;\n",
       "    }\n",
       "\n",
       "    .dataframe thead th {\n",
       "        text-align: right;\n",
       "    }\n",
       "</style>\n",
       "<table border=\"1\" class=\"dataframe\">\n",
       "  <thead>\n",
       "    <tr style=\"text-align: right;\">\n",
       "      <th></th>\n",
       "      <th>Buchungstag</th>\n",
       "      <th>Buchungstext</th>\n",
       "      <th>Verwendungszweck</th>\n",
       "      <th>Beguenstigter/Zahlungspflichtiger</th>\n",
       "      <th>Kontonummer</th>\n",
       "      <th>BLZ</th>\n",
       "      <th>Betrag</th>\n",
       "      <th>Waehrung</th>\n",
       "      <th>label</th>\n",
       "    </tr>\n",
       "  </thead>\n",
       "  <tbody>\n",
       "    <tr>\n",
       "      <th>0</th>\n",
       "      <td>28</td>\n",
       "      <td>10</td>\n",
       "      <td>Gehalt Adorsys GmbH &amp; Co. KG End-To-End-Ref.: ...</td>\n",
       "      <td>Adorsys GmbH &amp; Co. KG</td>\n",
       "      <td>7807800780</td>\n",
       "      <td>25190001</td>\n",
       "      <td>2000.00</td>\n",
       "      <td>EUR</td>\n",
       "      <td>1</td>\n",
       "    </tr>\n",
       "    <tr>\n",
       "      <th>1</th>\n",
       "      <td>27</td>\n",
       "      <td>11</td>\n",
       "      <td>Byladem1Sbt De12773501123456789889 Miete Beuth...</td>\n",
       "      <td>Georg Tasche</td>\n",
       "      <td>DE31251900019123456780</td>\n",
       "      <td>VOHADE2HXXX</td>\n",
       "      <td>-670.00</td>\n",
       "      <td>EUR</td>\n",
       "      <td>3</td>\n",
       "    </tr>\n",
       "    <tr>\n",
       "      <th>2</th>\n",
       "      <td>21</td>\n",
       "      <td>1</td>\n",
       "      <td>21.07/16.34Uhr Nuernberg All Eur 70,00 Geb.Eur...</td>\n",
       "      <td>Bargeld</td>\n",
       "      <td>9999900780</td>\n",
       "      <td>25190001</td>\n",
       "      <td>-70.00</td>\n",
       "      <td>EUR</td>\n",
       "      <td>4</td>\n",
       "    </tr>\n",
       "    <tr>\n",
       "      <th>3</th>\n",
       "      <td>20</td>\n",
       "      <td>9</td>\n",
       "      <td>2831 Edeka Neubauer Nuernb.//Nuernb 2016-07-20...</td>\n",
       "      <td>Kartenzahlung</td>\n",
       "      <td>9736000780</td>\n",
       "      <td>25190001</td>\n",
       "      <td>-73.21</td>\n",
       "      <td>EUR</td>\n",
       "      <td>5</td>\n",
       "    </tr>\n",
       "    <tr>\n",
       "      <th>4</th>\n",
       "      <td>18</td>\n",
       "      <td>13</td>\n",
       "      <td>Amazon</td>\n",
       "      <td>neue Playstation</td>\n",
       "      <td>9988776655</td>\n",
       "      <td>25125100</td>\n",
       "      <td>-363</td>\n",
       "      <td>EUR</td>\n",
       "      <td>2</td>\n",
       "    </tr>\n",
       "  </tbody>\n",
       "</table>\n",
       "</div>"
      ],
      "text/plain": [
       "   Buchungstag  Buchungstext  \\\n",
       "0           28            10   \n",
       "1           27            11   \n",
       "2           21             1   \n",
       "3           20             9   \n",
       "4           18            13   \n",
       "\n",
       "                                    Verwendungszweck  \\\n",
       "0  Gehalt Adorsys GmbH & Co. KG End-To-End-Ref.: ...   \n",
       "1  Byladem1Sbt De12773501123456789889 Miete Beuth...   \n",
       "2  21.07/16.34Uhr Nuernberg All Eur 70,00 Geb.Eur...   \n",
       "3  2831 Edeka Neubauer Nuernb.//Nuernb 2016-07-20...   \n",
       "4                                             Amazon   \n",
       "\n",
       "  Beguenstigter/Zahlungspflichtiger             Kontonummer          BLZ  \\\n",
       "0             Adorsys GmbH & Co. KG              7807800780     25190001   \n",
       "1                      Georg Tasche  DE31251900019123456780  VOHADE2HXXX   \n",
       "2                           Bargeld              9999900780     25190001   \n",
       "3                     Kartenzahlung              9736000780     25190001   \n",
       "4                  neue Playstation              9988776655     25125100   \n",
       "\n",
       "    Betrag Waehrung  label  \n",
       "0  2000.00      EUR      1  \n",
       "1  -670.00      EUR      3  \n",
       "2   -70.00      EUR      4  \n",
       "3   -73.21      EUR      5  \n",
       "4     -363      EUR      2  "
      ]
     },
     "execution_count": 35,
     "metadata": {},
     "output_type": "execute_result"
    }
   ],
   "source": [
    "unique_buchungstext = df[\"Buchungstext\"].unique()\n",
    "print(unique_buchungstext)\n",
    "le = preprocessing.LabelEncoder()\n",
    "le.fit(df[\"Buchungstext\"])\n",
    "df[\"Buchungstext\"] = le.transform(df[\"Buchungstext\"]).astype(int)\n",
    "df.head()"
   ]
  },
  {
   "cell_type": "markdown",
   "metadata": {},
   "source": [
    "Die Spalte Buchungstext beinhaltet 14 einzigartige Einträge, welche für eine spätere Klassifikation wichtig seien könnten. Die Einträge werden daher wie die labels codiert."
   ]
  },
  {
   "cell_type": "markdown",
   "metadata": {},
   "source": [
    "## Verwendungszweck"
   ]
  },
  {
   "cell_type": "markdown",
   "metadata": {},
   "source": []
  },
  {
   "cell_type": "code",
   "execution_count": 36,
   "metadata": {},
   "outputs": [
    {
     "name": "stdout",
     "output_type": "stream",
     "text": [
      "0      gehalt,adorsys,gmbh,notprovided,kundenreferenz...\n",
      "1      byladem,miete,beuthener,notprovided,dauerauftr...\n",
      "2                        nuernberg,einzahlung,auszahlung\n",
      "3               edeka,neubauer,nuernb,nuernb,lastschrift\n",
      "4                                                 amazon\n",
      "                             ...                        \n",
      "204    mietzuschuss,notprovided,kundenreferenz,nsct,g...\n",
      "205    ccbade,sparen,notprovided,dauerauftrag,dauerau...\n",
      "206    gehalt,adorsys,gmbh,notprovided,kundenreferenz...\n",
      "207                     ssknde,einmalsparen,ueberweisung\n",
      "208                                           abonnement\n",
      "Name: Verwendungszweck, Length: 209, dtype: object\n"
     ]
    }
   ],
   "source": [
    "stopwords = pd.read_csv('stopwords.txt', header=None)[0].tolist()\n",
    "\n",
    "df['Verwendungszweck'] = df['Verwendungszweck'].str.lower()\n",
    "df['Verwendungszweck'] = df['Verwendungszweck'].str.replace('\\d+', ' ', regex=True)\n",
    "df['Verwendungszweck'] = df['Verwendungszweck'].str.replace('\\W+',\" \", regex=True)\n",
    "df['Verwendungszweck'] = df[\"Verwendungszweck\"].str.split().apply(lambda x: [item for item in x if item not in (stopwords) and len(item) > 3])\n",
    "df['Verwendungszweck'] = df[\"Verwendungszweck\"].apply(lambda x: ','.join(item for item in x))\n",
    "\n",
    "print(df[\"Verwendungszweck\"])\n"
   ]
  },
  {
   "cell_type": "code",
   "execution_count": 37,
   "metadata": {},
   "outputs": [
    {
     "name": "stdout",
     "output_type": "stream",
     "text": [
      "109\n",
      "   abonnement  abschlag  abschluss  adorsys  aenderungen  alld  amazon  \\\n",
      "0           0         0          0        1            0     0       0   \n",
      "1           0         0          0        0            0     0       0   \n",
      "2           0         0          0        0            0     0       0   \n",
      "3           0         0          0        0            0     0       0   \n",
      "4           0         0          0        0            0     0       1   \n",
      "\n",
      "   ankenvers  apotheke  aramark  ...  verf  verfa  verfal  verfall  verfalld  \\\n",
      "0          0         0        0  ...     0      0       0        0         0   \n",
      "1          0         0        0  ...     0      0       0        0         0   \n",
      "2          0         0        0  ...     0      0       0        0         0   \n",
      "3          0         0        0  ...     0      0       0        0         0   \n",
      "4          0         0        0  ...     0      0       0        0         0   \n",
      "\n",
      "   vero  visa  winkl  zalando  überweisung  \n",
      "0     0     0      0        0            0  \n",
      "1     0     0      0        0            0  \n",
      "2     0     0      0        0            0  \n",
      "3     0     0      0        0            0  \n",
      "4     0     0      0        0            0  \n",
      "\n",
      "[5 rows x 109 columns]\n",
      "   Buchungstag  Buchungstext Beguenstigter/Zahlungspflichtiger  \\\n",
      "0           28            10             Adorsys GmbH & Co. KG   \n",
      "1           27            11                      Georg Tasche   \n",
      "2           21             1                           Bargeld   \n",
      "3           20             9                     Kartenzahlung   \n",
      "4           18            13                  neue Playstation   \n",
      "\n",
      "              Kontonummer          BLZ   Betrag Waehrung  label  abonnement  \\\n",
      "0              7807800780     25190001  2000.00      EUR      1           0   \n",
      "1  DE31251900019123456780  VOHADE2HXXX  -670.00      EUR      3           0   \n",
      "2              9999900780     25190001   -70.00      EUR      4           0   \n",
      "3              9736000780     25190001   -73.21      EUR      5           0   \n",
      "4              9988776655     25125100     -363      EUR      2           0   \n",
      "\n",
      "   abschlag  ...  verf  verfa  verfal  verfall  verfalld  vero  visa  winkl  \\\n",
      "0         0  ...     0      0       0        0         0     0     0      0   \n",
      "1         0  ...     0      0       0        0         0     0     0      0   \n",
      "2         0  ...     0      0       0        0         0     0     0      0   \n",
      "3         0  ...     0      0       0        0         0     0     0      0   \n",
      "4         0  ...     0      0       0        0         0     0     0      0   \n",
      "\n",
      "   zalando  überweisung  \n",
      "0        0            0  \n",
      "1        0            0  \n",
      "2        0            0  \n",
      "3        0            0  \n",
      "4        0            0  \n",
      "\n",
      "[5 rows x 117 columns]\n"
     ]
    }
   ],
   "source": [
    "vectorizer = CountVectorizer()\n",
    "bow = vectorizer.fit_transform(df['Verwendungszweck']).toarray()\n",
    "feature_names = vectorizer.get_feature_names()\n",
    "print(len(feature_names))\n",
    "bowdf = pd.DataFrame(bow, columns=feature_names)\n",
    "print(bowdf.head())\n",
    "df = pd.concat([df.reset_index(drop=True),bowdf.reset_index(drop=True)], axis=1)\n",
    "df = df.drop(columns=['Verwendungszweck'])\n",
    "print(df.head())"
   ]
  },
  {
   "cell_type": "markdown",
   "metadata": {},
   "source": [
    "## Beguenstigter"
   ]
  },
  {
   "cell_type": "markdown",
   "metadata": {},
   "source": [
    "Hat starke Aussagekraft über die Klasse, kann aber zu Overfitting führen."
   ]
  },
  {
   "cell_type": "code",
   "execution_count": 38,
   "metadata": {},
   "outputs": [
    {
     "name": "stdout",
     "output_type": "stream",
     "text": [
      "59\n"
     ]
    },
    {
     "data": {
      "text/html": [
       "<div>\n",
       "<style scoped>\n",
       "    .dataframe tbody tr th:only-of-type {\n",
       "        vertical-align: middle;\n",
       "    }\n",
       "\n",
       "    .dataframe tbody tr th {\n",
       "        vertical-align: top;\n",
       "    }\n",
       "\n",
       "    .dataframe thead th {\n",
       "        text-align: right;\n",
       "    }\n",
       "</style>\n",
       "<table border=\"1\" class=\"dataframe\">\n",
       "  <thead>\n",
       "    <tr style=\"text-align: right;\">\n",
       "      <th></th>\n",
       "      <th>Buchungstag</th>\n",
       "      <th>Buchungstext</th>\n",
       "      <th>Beguenstigter/Zahlungspflichtiger</th>\n",
       "      <th>Kontonummer</th>\n",
       "      <th>BLZ</th>\n",
       "      <th>Betrag</th>\n",
       "      <th>Waehrung</th>\n",
       "      <th>label</th>\n",
       "      <th>abonnement</th>\n",
       "      <th>abschlag</th>\n",
       "      <th>...</th>\n",
       "      <th>verf</th>\n",
       "      <th>verfa</th>\n",
       "      <th>verfal</th>\n",
       "      <th>verfall</th>\n",
       "      <th>verfalld</th>\n",
       "      <th>vero</th>\n",
       "      <th>visa</th>\n",
       "      <th>winkl</th>\n",
       "      <th>zalando</th>\n",
       "      <th>überweisung</th>\n",
       "    </tr>\n",
       "  </thead>\n",
       "  <tbody>\n",
       "    <tr>\n",
       "      <th>0</th>\n",
       "      <td>28</td>\n",
       "      <td>10</td>\n",
       "      <td>4</td>\n",
       "      <td>7807800780</td>\n",
       "      <td>25190001</td>\n",
       "      <td>2000.00</td>\n",
       "      <td>EUR</td>\n",
       "      <td>1</td>\n",
       "      <td>0</td>\n",
       "      <td>0</td>\n",
       "      <td>...</td>\n",
       "      <td>0</td>\n",
       "      <td>0</td>\n",
       "      <td>0</td>\n",
       "      <td>0</td>\n",
       "      <td>0</td>\n",
       "      <td>0</td>\n",
       "      <td>0</td>\n",
       "      <td>0</td>\n",
       "      <td>0</td>\n",
       "      <td>0</td>\n",
       "    </tr>\n",
       "    <tr>\n",
       "      <th>1</th>\n",
       "      <td>27</td>\n",
       "      <td>11</td>\n",
       "      <td>30</td>\n",
       "      <td>DE31251900019123456780</td>\n",
       "      <td>VOHADE2HXXX</td>\n",
       "      <td>-670.00</td>\n",
       "      <td>EUR</td>\n",
       "      <td>3</td>\n",
       "      <td>0</td>\n",
       "      <td>0</td>\n",
       "      <td>...</td>\n",
       "      <td>0</td>\n",
       "      <td>0</td>\n",
       "      <td>0</td>\n",
       "      <td>0</td>\n",
       "      <td>0</td>\n",
       "      <td>0</td>\n",
       "      <td>0</td>\n",
       "      <td>0</td>\n",
       "      <td>0</td>\n",
       "      <td>0</td>\n",
       "    </tr>\n",
       "    <tr>\n",
       "      <th>2</th>\n",
       "      <td>21</td>\n",
       "      <td>1</td>\n",
       "      <td>15</td>\n",
       "      <td>9999900780</td>\n",
       "      <td>25190001</td>\n",
       "      <td>-70.00</td>\n",
       "      <td>EUR</td>\n",
       "      <td>4</td>\n",
       "      <td>0</td>\n",
       "      <td>0</td>\n",
       "      <td>...</td>\n",
       "      <td>0</td>\n",
       "      <td>0</td>\n",
       "      <td>0</td>\n",
       "      <td>0</td>\n",
       "      <td>0</td>\n",
       "      <td>0</td>\n",
       "      <td>0</td>\n",
       "      <td>0</td>\n",
       "      <td>0</td>\n",
       "      <td>0</td>\n",
       "    </tr>\n",
       "    <tr>\n",
       "      <th>3</th>\n",
       "      <td>20</td>\n",
       "      <td>9</td>\n",
       "      <td>39</td>\n",
       "      <td>9736000780</td>\n",
       "      <td>25190001</td>\n",
       "      <td>-73.21</td>\n",
       "      <td>EUR</td>\n",
       "      <td>5</td>\n",
       "      <td>0</td>\n",
       "      <td>0</td>\n",
       "      <td>...</td>\n",
       "      <td>0</td>\n",
       "      <td>0</td>\n",
       "      <td>0</td>\n",
       "      <td>0</td>\n",
       "      <td>0</td>\n",
       "      <td>0</td>\n",
       "      <td>0</td>\n",
       "      <td>0</td>\n",
       "      <td>0</td>\n",
       "      <td>0</td>\n",
       "    </tr>\n",
       "    <tr>\n",
       "      <th>4</th>\n",
       "      <td>18</td>\n",
       "      <td>13</td>\n",
       "      <td>58</td>\n",
       "      <td>9988776655</td>\n",
       "      <td>25125100</td>\n",
       "      <td>-363</td>\n",
       "      <td>EUR</td>\n",
       "      <td>2</td>\n",
       "      <td>0</td>\n",
       "      <td>0</td>\n",
       "      <td>...</td>\n",
       "      <td>0</td>\n",
       "      <td>0</td>\n",
       "      <td>0</td>\n",
       "      <td>0</td>\n",
       "      <td>0</td>\n",
       "      <td>0</td>\n",
       "      <td>0</td>\n",
       "      <td>0</td>\n",
       "      <td>0</td>\n",
       "      <td>0</td>\n",
       "    </tr>\n",
       "  </tbody>\n",
       "</table>\n",
       "<p>5 rows × 117 columns</p>\n",
       "</div>"
      ],
      "text/plain": [
       "   Buchungstag  Buchungstext  Beguenstigter/Zahlungspflichtiger  \\\n",
       "0           28            10                                  4   \n",
       "1           27            11                                 30   \n",
       "2           21             1                                 15   \n",
       "3           20             9                                 39   \n",
       "4           18            13                                 58   \n",
       "\n",
       "              Kontonummer          BLZ   Betrag Waehrung  label  abonnement  \\\n",
       "0              7807800780     25190001  2000.00      EUR      1           0   \n",
       "1  DE31251900019123456780  VOHADE2HXXX  -670.00      EUR      3           0   \n",
       "2              9999900780     25190001   -70.00      EUR      4           0   \n",
       "3              9736000780     25190001   -73.21      EUR      5           0   \n",
       "4              9988776655     25125100     -363      EUR      2           0   \n",
       "\n",
       "   abschlag  ...  verf  verfa  verfal  verfall  verfalld  vero  visa  winkl  \\\n",
       "0         0  ...     0      0       0        0         0     0     0      0   \n",
       "1         0  ...     0      0       0        0         0     0     0      0   \n",
       "2         0  ...     0      0       0        0         0     0     0      0   \n",
       "3         0  ...     0      0       0        0         0     0     0      0   \n",
       "4         0  ...     0      0       0        0         0     0     0      0   \n",
       "\n",
       "   zalando  überweisung  \n",
       "0        0            0  \n",
       "1        0            0  \n",
       "2        0            0  \n",
       "3        0            0  \n",
       "4        0            0  \n",
       "\n",
       "[5 rows x 117 columns]"
      ]
     },
     "execution_count": 38,
     "metadata": {},
     "output_type": "execute_result"
    }
   ],
   "source": [
    "unique_beguenstigter = df[\"Beguenstigter/Zahlungspflichtiger\"].unique()\n",
    "print(len(unique_beguenstigter))\n",
    "le = preprocessing.LabelEncoder()\n",
    "le.fit(df[\"Beguenstigter/Zahlungspflichtiger\"])\n",
    "df[\"Beguenstigter/Zahlungspflichtiger\"] = le.transform(df[\"Beguenstigter/Zahlungspflichtiger\"]).astype(int)\n",
    "df.head()"
   ]
  },
  {
   "cell_type": "markdown",
   "metadata": {},
   "source": [
    "## Kontonummer"
   ]
  },
  {
   "cell_type": "markdown",
   "metadata": {},
   "source": [
    "Enthält dieselbe Information wie Beguenstigter."
   ]
  },
  {
   "cell_type": "code",
   "execution_count": 39,
   "metadata": {},
   "outputs": [],
   "source": [
    "df = df.drop(columns = ['Kontonummer'])"
   ]
  },
  {
   "cell_type": "markdown",
   "metadata": {},
   "source": [
    "## BLZ"
   ]
  },
  {
   "cell_type": "markdown",
   "metadata": {},
   "source": [
    "Ebenfalls nicht hilfreich für eine Klassifikation"
   ]
  },
  {
   "cell_type": "code",
   "execution_count": 40,
   "metadata": {},
   "outputs": [],
   "source": [
    "df = df.drop(columns = ['BLZ'])"
   ]
  },
  {
   "cell_type": "markdown",
   "metadata": {},
   "source": [
    "## Betrag"
   ]
  },
  {
   "cell_type": "markdown",
   "metadata": {},
   "source": [
    "Da die Spalte Betrag unregelmäßigkeiten in der Benutzung von Punkt und Komma für die Trennung der Nachkommastellen aufweist, muss das angepasst werden."
   ]
  },
  {
   "cell_type": "code",
   "execution_count": 41,
   "metadata": {},
   "outputs": [
    {
     "name": "stdout",
     "output_type": "stream",
     "text": [
      "0    2000.00\n",
      "1    -670.00\n",
      "2     -70.00\n",
      "3     -73.21\n",
      "4       -363\n",
      "Name: Betrag, dtype: object\n"
     ]
    }
   ],
   "source": [
    "df['Betrag'] = df['Betrag'].str.replace(',', '.', regex=True)\n",
    "print(df['Betrag'].head())"
   ]
  },
  {
   "cell_type": "markdown",
   "metadata": {},
   "source": [
    "## Waehrung"
   ]
  },
  {
   "cell_type": "markdown",
   "metadata": {},
   "source": [
    "Die Währung ist Euro und damit kein Mehrwert für die Klassifikation"
   ]
  },
  {
   "cell_type": "code",
   "execution_count": 42,
   "metadata": {},
   "outputs": [],
   "source": [
    "df = df.drop(columns = ['Waehrung'])"
   ]
  },
  {
   "cell_type": "markdown",
   "metadata": {},
   "source": [
    "## Generate Test and Trainingsset"
   ]
  },
  {
   "cell_type": "code",
   "execution_count": null,
   "metadata": {},
   "outputs": [],
   "source": []
  },
  {
   "cell_type": "code",
   "execution_count": 43,
   "metadata": {},
   "outputs": [
    {
     "name": "stdout",
     "output_type": "stream",
     "text": [
      "[12  4 20  8  7 12]\n"
     ]
    },
    {
     "data": {
      "text/plain": [
       "[<matplotlib.lines.Line2D at 0x2e16dabf310>]"
      ]
     },
     "execution_count": 43,
     "metadata": {},
     "output_type": "execute_result"
    },
    {
     "data": {
      "image/png": "[encoded data removed]",
      "text/plain": [
       "<Figure size 432x288 with 1 Axes>"
      ]
     },
     "metadata": {
      "needs_background": "light"
     },
     "output_type": "display_data"
    }
   ],
   "source": [
    "x_new = SelectKBest(mutual_info_classif, k=100).fit_transform(df.loc[:, df.columns != 'label'], df['label'])\n",
    "value_train, value_test, label_train, label_test = train_test_split(x_new, df['label'], test_size=0.3, random_state=109)\n",
    "table_training = np.bincount(label_train)\n",
    "table_test = np.bincount(label_test)\n",
    "print(table_test)\n",
    "plt.plot(table_training)\n",
    "plt.plot(table_test)"
   ]
  },
  {
   "cell_type": "markdown",
   "metadata": {},
   "source": [
    "## Training"
   ]
  },
  {
   "cell_type": "code",
   "execution_count": 44,
   "metadata": {},
   "outputs": [
    {
     "data": {
      "text/plain": [
       "GaussianNB()"
      ]
     },
     "execution_count": 44,
     "metadata": {},
     "output_type": "execute_result"
    }
   ],
   "source": [
    "model = GaussianNB()\n",
    "model.fit(value_train, label_train)"
   ]
  },
  {
   "cell_type": "markdown",
   "metadata": {},
   "source": [
    "## Evalutation"
   ]
  },
  {
   "cell_type": "code",
   "execution_count": 45,
   "metadata": {},
   "outputs": [
    {
     "name": "stdout",
     "output_type": "stream",
     "text": [
      "                  precision    recall  f1-score   support\n",
      "\n",
      "         finance       0.92      0.92      0.92        12\n",
      "          income       1.00      1.00      1.00         4\n",
      "         leisure       1.00      0.95      0.97        20\n",
      "          living       1.00      0.75      0.86         8\n",
      "         private       0.55      0.86      0.67         7\n",
      "standardOfLiving       1.00      0.92      0.96        12\n",
      "\n",
      "        accuracy                           0.90        63\n",
      "       macro avg       0.91      0.90      0.90        63\n",
      "    weighted avg       0.93      0.90      0.91        63\n",
      "\n"
     ]
    }
   ],
   "source": [
    "prediction = model.predict(value_test)\n",
    "classes = ['finance', 'income', 'leisure', 'living', 'private', 'standardOfLiving']\n",
    "report = classification_report(label_test, prediction, target_names=classes)\n",
    "print(report)"
   ]
  },
  {
   "cell_type": "code",
   "execution_count": 46,
   "metadata": {},
   "outputs": [
    {
     "name": "stdout",
     "output_type": "stream",
     "text": [
      "[0.9        0.72413793 0.86206897 0.86206897 0.62068966]\n",
      "0.7937931034482759\n"
     ]
    }
   ],
   "source": [
    "from sklearn.model_selection import cross_val_score\n",
    "\n",
    "#cv: int, cross-validation generator or an iterable, default=None\n",
    "#Actually cv determines the cross-validation splitting strategy.\n",
    "scores = cross_val_score(model, value_train, label_train, cv=5)\n",
    "\n",
    "# Print the accuracy of each fold:\n",
    "print(scores)\n",
    "\n",
    "# Print the mean accuracy of all 5 folds\n",
    "print(scores.mean())"
   ]
  },
  {
   "cell_type": "code",
   "execution_count": 47,
   "metadata": {},
   "outputs": [
    {
     "data": {
      "image/png": "[encoded data removed]",
      "text/plain": [
       "<Figure size 432x288 with 2 Axes>"
      ]
     },
     "metadata": {
      "needs_background": "light"
     },
     "output_type": "display_data"
    }
   ],
   "source": [
    "disp = plot_confusion_matrix(model, value_test, label_test,\n",
    "                             display_labels=classes,\n",
    "                             cmap=plt.cm.Blues,\n",
    "                             normalize=\"true\")\n",
    "disp.ax_.set_title(\"Normalized confusion matrix\")\n",
    "plt.show()"
   ]
  },
  {
   "cell_type": "code",
   "execution_count": null,
   "metadata": {},
   "outputs": [],
   "source": []
  },
  {
   "cell_type": "code",
   "execution_count": null,
   "metadata": {},
   "outputs": [],
   "source": []
  }
 ],
 "metadata": {
  "kernelspec": {
   "display_name": "Python 3",
   "language": "python",
   "name": "python3"
  },
  "language_info": {
   "codemirror_mode": {
    "name": "ipython",
    "version": 3
   },
   "file_extension": ".py",
   "mimetype": "text/x-python",
   "name": "python",
   "nbconvert_exporter": "python",
   "pygments_lexer": "ipython3",
   "version": "3.8.5"
  }
 },
 "nbformat": 4,
 "nbformat_minor": 4
}
